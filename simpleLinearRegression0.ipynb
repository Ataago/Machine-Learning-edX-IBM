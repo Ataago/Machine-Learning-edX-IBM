{
 "cells": [
  {
   "cell_type": "markdown",
   "metadata": {},
   "source": [
    "# <center>Simple Linear Regression</center>\n",
    "## <center>by sklearn Lib</center>"
   ]
  },
  {
   "cell_type": "code",
   "execution_count": null,
   "metadata": {},
   "outputs": [],
   "source": [
    "import numpy as np\n",
    "import pandas as pd\n",
    "from sklearn import linear_model\n",
    "import matplotlib.pyplot as plt\n",
    "%matplotlib inline"
   ]
  },
  {
   "cell_type": "markdown",
   "metadata": {},
   "source": [
    "### Reading the Fuel Dataset"
   ]
  },
  {
   "cell_type": "code",
   "execution_count": null,
   "metadata": {},
   "outputs": [],
   "source": [
    "data = pd.read_csv(\"data/FuelConsumption.csv\")\n",
    "data.head()"
   ]
  },
  {
   "cell_type": "markdown",
   "metadata": {},
   "source": [
    "### Exploring Data"
   ]
  },
  {
   "cell_type": "code",
   "execution_count": null,
   "metadata": {},
   "outputs": [],
   "source": [
    "data.describe() "
   ]
  },
  {
   "cell_type": "code",
   "execution_count": null,
   "metadata": {},
   "outputs": [],
   "source": [
    "viz = data[['ENGINESIZE', 'CYLINDERS', 'FUELCONSUMPTION_CITY', 'FUELCONSUMPTION_HWY', 'FUELCONSUMPTION_COMB', 'CO2EMISSIONS']]\n",
    "viz.hist()\n",
    "plt.show()"
   ]
  },
  {
   "cell_type": "markdown",
   "metadata": {},
   "source": [
    "#### Finding the best Linear Independent Variable (X) for dependent (Y) as CO2EMISSION"
   ]
  },
  {
   "cell_type": "code",
   "execution_count": null,
   "metadata": {},
   "outputs": [],
   "source": [
    "plt.scatter(data.ENGINESIZE, data.CO2EMISSIONS, c='b')\n",
    "plt.xlabel('ENGINESIZE')\n",
    "plt.ylabel('CO2EMISSION')\n",
    "plt.show()"
   ]
  },
  {
   "cell_type": "code",
   "execution_count": null,
   "metadata": {},
   "outputs": [],
   "source": [
    "plt.scatter(data.CYLINDERS, data.CO2EMISSIONS, c='b')\n",
    "plt.xlabel('CYLINDERS')\n",
    "plt.ylabel('CO2EMISSION')\n",
    "plt.show()"
   ]
  },
  {
   "cell_type": "code",
   "execution_count": null,
   "metadata": {},
   "outputs": [],
   "source": [
    "plt.scatter(data.FUELCONSUMPTION_CITY, data.CO2EMISSIONS, c='b')\n",
    "plt.xlabel('FUELCONSUMPTION_CITY')\n",
    "plt.ylabel('CO2EMISSION')\n",
    "plt.show()"
   ]
  },
  {
   "cell_type": "code",
   "execution_count": null,
   "metadata": {},
   "outputs": [],
   "source": [
    "plt.scatter(data.FUELCONSUMPTION_HWY, data.CO2EMISSIONS, c='b')\n",
    "plt.xlabel('FUELCONSUMPTION_HWY')\n",
    "plt.ylabel('CO2EMISSION')\n",
    "plt.show()"
   ]
  },
  {
   "cell_type": "code",
   "execution_count": null,
   "metadata": {
    "jupyter": {
     "source_hidden": true
    }
   },
   "outputs": [],
   "source": [
    "plt.scatter(data.FUELCONSUMPTION_COMB, data.CO2EMISSIONS, c='b')\n",
    "plt.xlabel('FUELCONSUMPTION_COMB')\n",
    "plt.ylabel('CO2EMISSION')\n",
    "plt.show()"
   ]
  },
  {
   "cell_type": "markdown",
   "metadata": {},
   "source": [
    "The Best among the independent variables, we find ENGINESIZE as the most suitable for Simple Linear Regression."
   ]
  },
  {
   "cell_type": "code",
   "execution_count": null,
   "metadata": {},
   "outputs": [],
   "source": [
    "x = 'ENGINESIZE'\n",
    "y = 'CO2EMISSIONS'"
   ]
  },
  {
   "cell_type": "markdown",
   "metadata": {},
   "source": [
    "### Creating Test and Train Data 80:20 split"
   ]
  },
  {
   "cell_type": "code",
   "execution_count": null,
   "metadata": {},
   "outputs": [],
   "source": [
    "mask = np.random.rand(len(data)) < 0.8\n",
    "train_data = data[mask]\n",
    "test_data = data[~mask]\n",
    "\n",
    "train_x = np.asanyarray(train_data[[x]])\n",
    "train_y = np.asanyarray(train_data[[y]])\n",
    "\n",
    "test_x = np.asanyarray(test_data[[x]])\n",
    "test_y = np.asanyarray(test_data[[y]])"
   ]
  },
  {
   "cell_type": "markdown",
   "metadata": {},
   "source": [
    "### Training the Simple Linear Model with sklearn module"
   ]
  },
  {
   "cell_type": "code",
   "execution_count": null,
   "metadata": {},
   "outputs": [],
   "source": [
    "mySimpleLR = linear_model.LinearRegression()\n",
    "mySimpleLR.fit(train_x, train_y)\n",
    "Coefficient = mySimpleLR.coef_[0][0]\n",
    "Intercept = mySimpleLR.intercept_[0]\n",
    "print(\"Coefficient:\\t\", Coefficient)\n",
    "print(\"Intercept:\\t\", Intercept)"
   ]
  },
  {
   "cell_type": "markdown",
   "metadata": {},
   "source": [
    "### Plotting the Linear Model"
   ]
  },
  {
   "cell_type": "code",
   "execution_count": null,
   "metadata": {},
   "outputs": [],
   "source": [
    "plt.scatter(train_x, train_y, c='b')\n",
    "plt.plot(test_x, Intercept + Coefficient * test_x, c='r')\n",
    "plt.xlabel(x)\n",
    "plt.ylabel(y)\n",
    "plt.show()"
   ]
  },
  {
   "cell_type": "markdown",
   "metadata": {},
   "source": [
    "### Predicting the dependent Variable (y) : CO2EMISSIONS"
   ]
  },
  {
   "cell_type": "code",
   "execution_count": null,
   "metadata": {},
   "outputs": [],
   "source": [
    "predicted_y = mySimpleLR.predict(test_data[[x]])\n",
    "\n",
    "\n",
    "from sklearn.metrics import r2_score\n",
    "print(\"Mean Absolute Error:\\t\\t%0.2f\" % np.mean(np.absolute(predicted_y - test_y)))\n",
    "print(\"Residual Mean Square Error:\\t%0.2f\" % np.mean((predicted_y - test_y) ** 2))\n",
    "print(\"R2-Score:\\t\\t\\t%0.17f\" % r2_score(test_y, predicted_y))"
   ]
  }
 ],
 "metadata": {
  "kernelspec": {
   "display_name": "Python 3",
   "language": "python",
   "name": "python3"
  },
  "language_info": {
   "codemirror_mode": {
    "name": "ipython",
    "version": 3
   },
   "file_extension": ".py",
   "mimetype": "text/x-python",
   "name": "python",
   "nbconvert_exporter": "python",
   "pygments_lexer": "ipython3",
   "version": "3.7.3"
  }
 },
 "nbformat": 4,
 "nbformat_minor": 4
}
